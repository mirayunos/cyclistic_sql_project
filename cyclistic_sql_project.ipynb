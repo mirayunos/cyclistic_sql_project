{
 "cells": [
  {
   "cell_type": "markdown",
   "id": "b5a178f3",
   "metadata": {},
   "source": [
    "## Cyclistic Dataset with SQL (MYSQL)\n",
    "\n",
    "### Merging and cleaning data"
   ]
  },
  {
   "cell_type": "markdown",
   "id": "46da17d8",
   "metadata": {},
   "source": [
    "Background:\n",
    "Cyclistic is a bike sharing company that operates 5828 bikes within 692 docking stations. The company has been around since 2016 and separates itself from the competition due to the fact that they offer a variety of bike services including assistive options. Lily Moreno is the director of the marketing team and will be the person to receive these insights from this analysis.\n",
    "\n",
    "Case Study and business task\n",
    "Lily Morenos perspective on how to generate more income by marketing Cyclistics services correctly includes converting casual riders (one day passes and/or pay per ride customers) into annual riders with a membership. Annual riders are more profitable than casual riders according to the finance analysts. She would rather see a campaign targeting casual riders into annual riders, instead of launching campaigns targeting new costumers. So her strategy as the manager of the marketing team is simply to maximize the amount of annual riders by converting casual riders.\n",
    "\n",
    "In order to make a data driven decision, Moreno needs the following insights:\n",
    "\n",
    "* A better understanding of how casual riders and annual riders differ\n",
    "* Why would a casual rider become an annual one\n",
    "* How digital media can affect the marketing tactics\n",
    "\n",
    "By merging all 12 monthly bike share data provided, an extensive amount of data with 5,400,000 rows were returned and included in this analysis."
   ]
  },
  {
   "cell_type": "markdown",
   "id": "7b90c982",
   "metadata": {},
   "source": [
    "#### Problem: Cyclistic’s marketing strategy still relied on building general awareness and appealing to broad consumer segments.\n",
    "\n",
    "#### Solution: Help Cyclistic’s marketing strategy to target on particular customers that will convert casual riders to member riders.\n",
    "\n",
    "#### Analytics goal:\n",
    "HOW member and casual riders use Cyclistic bikes differently?\n",
    "\n",
    "WHY would casual riders buy Cyclistic annual memberships?\n",
    "\n",
    "HOW can Cyclistic use digital media to influence casual riders to become members?"
   ]
  },
  {
   "cell_type": "code",
   "execution_count": 9,
   "id": "657f40c7",
   "metadata": {},
   "outputs": [
    {
     "name": "stdout",
     "output_type": "stream",
     "text": [
      "Requirement already satisfied: mysql-connector-python in g:\\anaconda\\lib\\site-packages (8.0.29)Note: you may need to restart the kernel to use updated packages.\n",
      "Requirement already satisfied: protobuf>=3.0.0 in g:\\anaconda\\lib\\site-packages (from mysql-connector-python) (3.20.1)\n",
      "\n"
     ]
    }
   ],
   "source": [
    "pip install mysql-connector-python"
   ]
  },
  {
   "cell_type": "code",
   "execution_count": 10,
   "id": "58dd2f7c",
   "metadata": {},
   "outputs": [],
   "source": [
    "import mysql.connector\n",
    "from mysql.connector import Error\n",
    "import pandas as pd"
   ]
  },
  {
   "cell_type": "code",
   "execution_count": 11,
   "id": "38d3327d",
   "metadata": {},
   "outputs": [],
   "source": [
    "def create_server_connection(host_name, user_name, user_password):\n",
    "#the function (create_server_connection) and the arguments (host_name, user_name and user_password).\n",
    "    connection = None\n",
    "    \n",
    "    #try-except block to handle any potential errors\n",
    "    try:\n",
    "        connection = mysql.connector.connect(\n",
    "            host=host_name,\n",
    "            user=user_name,\n",
    "            passwd=user_password\n",
    "        )\n",
    "        print(\"MySQL Database connection successful\")\n",
    "    except Error as err:\n",
    "        print(f\"Error: '{err}'\")\n",
    "\n",
    "    return connection"
   ]
  },
  {
   "cell_type": "code",
   "execution_count": 12,
   "id": "aada47bb",
   "metadata": {},
   "outputs": [
    {
     "name": "stdout",
     "output_type": "stream",
     "text": [
      "MySQL Database connection successful\n"
     ]
    }
   ],
   "source": [
    "connection = create_server_connection(\"localhost\", \"root\", \"M2y7_0695\")"
   ]
  },
  {
   "cell_type": "code",
   "execution_count": 13,
   "id": "147f4f37",
   "metadata": {},
   "outputs": [],
   "source": [
    "#CREATING A DATABASE\n",
    "\n",
    "def create_database(connection, query):\n",
    "#takes two arguments, connection (our connection object) and query (a SQL query which we will write in the next step)\n",
    "    cursor = connection.cursor()\n",
    "    #to create a cursor object \n",
    "    #(MySQL Connector uses an object-oriented programming paradigm, so there are lots of objects inheriting properties from parent objects)\n",
    "    try:\n",
    "        cursor.execute(query)\n",
    "        print(\"Database created successfully\")\n",
    "    except Error as err:\n",
    "        print(f\"Error: '{err}'\")"
   ]
  },
  {
   "cell_type": "code",
   "execution_count": 14,
   "id": "d4c91bd5",
   "metadata": {},
   "outputs": [
    {
     "name": "stdout",
     "output_type": "stream",
     "text": [
      "Error: '1007 (HY000): Can't create database 'bike'; database exists'\n"
     ]
    }
   ],
   "source": [
    "create_database_query = \"CREATE DATABASE bike\"\n",
    "create_database(connection, create_database_query)"
   ]
  },
  {
   "cell_type": "code",
   "execution_count": 15,
   "id": "795eea90",
   "metadata": {},
   "outputs": [],
   "source": [
    "#to have multiple databases on one MySQL\n",
    "def create_db_connection(host_name, user_name, user_password, db_name):\n",
    "    connection = None\n",
    "    try:\n",
    "        connection = mysql.connector.connect(\n",
    "            host=host_name,\n",
    "            user=user_name,\n",
    "            passwd=user_password,\n",
    "            database=db_name\n",
    "        )\n",
    "        print(\"MySQL Database connection successful\")\n",
    "    except Error as err:\n",
    "        print(f\"Error: '{err}'\")\n",
    "\n",
    "    return connection"
   ]
  },
  {
   "cell_type": "code",
   "execution_count": 16,
   "id": "6f0a8b66",
   "metadata": {},
   "outputs": [],
   "source": [
    "def execute_query(connection, query):\n",
    "    cursor = connection.cursor()\n",
    "    try:\n",
    "        cursor.execute(query)\n",
    "        connection.commit()\n",
    "        print(\"Query successful\")\n",
    "    except Error as err:\n",
    "        print(f\"Error: '{err}'\")\n",
    "        \n",
    "# the connection.commit() method to make sure that the commands detailed in our SQL queries are implemented"
   ]
  },
  {
   "cell_type": "code",
   "execution_count": 17,
   "id": "a7531b1d",
   "metadata": {},
   "outputs": [
    {
     "name": "stdout",
     "output_type": "stream",
     "text": [
      "MySQL Database connection successful\n",
      "Error: '1050 (42S01): Table 'april_2020' already exists'\n"
     ]
    }
   ],
   "source": [
    "create_april2020_table = \"\"\"\n",
    "CREATE TABLE april_2020 (\n",
    "    ride_id varchar(255),\n",
    "    rideable_type varchar(255),\n",
    "    started_at datetime,\n",
    "    ended_at datetime,\n",
    "    ride_length time,\n",
    "    day_of_week int,\n",
    "    start_station_name varchar(255),\n",
    "    start_station_id double,\n",
    "    end_station_name varchar(255),\n",
    "    end_station_id double,\n",
    "    start_lat float,\n",
    "    start_lng float,\n",
    "    end_lat float,\n",
    "    end_lng float,\n",
    "    member_casual varchar(255));\n",
    "\n",
    " \"\"\"\n",
    "\n",
    "connection = create_db_connection(\"localhost\", \"root\", \"M2y7_0695\", \"bike\") # Connect to the Database\n",
    "execute_query(connection, create_april2020_table) # Execute our defined query"
   ]
  },
  {
   "cell_type": "code",
   "execution_count": 18,
   "id": "6072eb8b",
   "metadata": {},
   "outputs": [
    {
     "name": "stdout",
     "output_type": "stream",
     "text": [
      "MySQL Database connection successful\n",
      "Error: '1050 (42S01): Table 'may_2020' already exists'\n",
      "Error: '1050 (42S01): Table 'june_2020' already exists'\n",
      "Error: '1050 (42S01): Table 'july_2020' already exists'\n",
      "Error: '1050 (42S01): Table 'august_2020' already exists'\n",
      "Error: '1050 (42S01): Table 'september_2020' already exists'\n",
      "Error: '1050 (42S01): Table 'october_2020' already exists'\n",
      "Error: '1050 (42S01): Table 'november_2020' already exists'\n",
      "Error: '1050 (42S01): Table 'december_2020' already exists'\n",
      "Error: '1050 (42S01): Table 'january_2021' already exists'\n",
      "Error: '1050 (42S01): Table 'february_2021' already exists'\n",
      "Error: '1050 (42S01): Table 'march_2021' already exists'\n"
     ]
    }
   ],
   "source": [
    "#until feb 2021\n",
    "\n",
    "create_may2020_table = \"\"\"\n",
    "CREATE TABLE may_2020 (\n",
    "    ride_id varchar(255),\n",
    "    rideable_type varchar(255),\n",
    "    started_at datetime,\n",
    "    ended_at datetime,\n",
    "    ride_length time,\n",
    "    day_of_week int,\n",
    "    start_station_name varchar(255),\n",
    "    start_station_id double,\n",
    "    end_station_name varchar(255),\n",
    "    end_station_id double,\n",
    "    start_lat float,\n",
    "    start_lng float,\n",
    "    end_lat float,\n",
    "    end_lng float,\n",
    "    member_casual varchar(255));\n",
    " \"\"\"\n",
    "\n",
    "create_june2020_table = \"\"\"\n",
    "CREATE TABLE june_2020 (\n",
    "    ride_id varchar(255),\n",
    "    rideable_type varchar(255),\n",
    "    started_at datetime,\n",
    "    ended_at datetime,\n",
    "    ride_length time,\n",
    "    day_of_week int,\n",
    "    start_station_name varchar(255),\n",
    "    start_station_id double,\n",
    "    end_station_name varchar(255),\n",
    "    end_station_id double,\n",
    "    start_lat float,\n",
    "    start_lng float,\n",
    "    end_lat float,\n",
    "    end_lng float,\n",
    "    member_casual varchar(255));\n",
    "\"\"\"\n",
    "\n",
    "create_july2020_table = \"\"\"\n",
    "CREATE TABLE july_2020 (\n",
    "    ride_id varchar(255),\n",
    "    rideable_type varchar(255),\n",
    "    started_at datetime,\n",
    "    ended_at datetime,\n",
    "    ride_length time,\n",
    "    day_of_week int,\n",
    "    start_station_name varchar(255),\n",
    "    start_station_id double,\n",
    "    end_station_name varchar(255),\n",
    "    end_station_id double,\n",
    "    start_lat float,\n",
    "    start_lng float,\n",
    "    end_lat float,\n",
    "    end_lng float,\n",
    "    member_casual varchar(255));\n",
    "\"\"\"\n",
    "\n",
    "create_august2020_table = \"\"\"\n",
    "CREATE TABLE august_2020 (\n",
    "    ride_id varchar(255),\n",
    "    rideable_type varchar(255),\n",
    "    started_at datetime,\n",
    "    ended_at datetime,\n",
    "    ride_length time,\n",
    "    day_of_week int,\n",
    "    start_station_name varchar(255),\n",
    "    start_station_id double,\n",
    "    end_station_name varchar(255),\n",
    "    end_station_id double,\n",
    "    start_lat float,\n",
    "    start_lng float,\n",
    "    end_lat float,\n",
    "    end_lng float,\n",
    "    member_casual varchar(255));\n",
    "\"\"\"\n",
    "\n",
    "create_september2020_table = \"\"\"\n",
    "CREATE TABLE september_2020 (\n",
    "    ride_id varchar(255),\n",
    "    rideable_type varchar(255),\n",
    "    started_at datetime,\n",
    "    ended_at datetime,\n",
    "    ride_length time,\n",
    "    day_of_week int,\n",
    "    start_station_name varchar(255),\n",
    "    start_station_id double,\n",
    "    end_station_name varchar(255),\n",
    "    end_station_id double,\n",
    "    start_lat float,\n",
    "    start_lng float,\n",
    "    end_lat float,\n",
    "    end_lng float,\n",
    "    member_casual varchar(255));\n",
    "\"\"\"\n",
    "\n",
    "create_october2020_table = \"\"\"\n",
    "CREATE TABLE october_2020 (\n",
    "    ride_id varchar(255),\n",
    "    rideable_type varchar(255),\n",
    "    started_at datetime,\n",
    "    ended_at datetime,\n",
    "    ride_length time,\n",
    "    day_of_week int,\n",
    "    start_station_name varchar(255),\n",
    "    start_station_id double,\n",
    "    end_station_name varchar(255),\n",
    "    end_station_id double,\n",
    "    start_lat float,\n",
    "    start_lng float,\n",
    "    end_lat float,\n",
    "    end_lng float,\n",
    "    member_casual varchar(255));\n",
    "\"\"\"\n",
    "\n",
    "\n",
    "create_november2020_table = \"\"\"\n",
    "CREATE TABLE november_2020 (\n",
    "    ride_id varchar(255),\n",
    "    rideable_type varchar(255),\n",
    "    started_at datetime,\n",
    "    ended_at datetime,\n",
    "    ride_length time,\n",
    "    day_of_week int,\n",
    "    start_station_name varchar(255),\n",
    "    start_station_id double,\n",
    "    end_station_name varchar(255),\n",
    "    end_station_id double,\n",
    "    start_lat float,\n",
    "    start_lng float,\n",
    "    end_lat float,\n",
    "    end_lng float,\n",
    "    member_casual varchar(255));\n",
    "\"\"\"\n",
    "\n",
    "create_december2020_table = \"\"\"\n",
    "CREATE TABLE december_2020 (\n",
    "    ride_id varchar(255),\n",
    "    rideable_type varchar(255),\n",
    "    started_at datetime,\n",
    "    ended_at datetime,\n",
    "    ride_length time,\n",
    "    day_of_week int,\n",
    "    start_station_name varchar(255),\n",
    "    start_station_id double,\n",
    "    end_station_name varchar(255),\n",
    "    end_station_id double,\n",
    "    start_lat float,\n",
    "    start_lng float,\n",
    "    end_lat float,\n",
    "    end_lng float,\n",
    "    member_casual varchar(255));\n",
    "\"\"\"\n",
    "\n",
    "create_january2021_table = \"\"\"\n",
    "CREATE TABLE january_2021 (\n",
    "    ride_id varchar(255),\n",
    "    rideable_type varchar(255),\n",
    "    started_at datetime,\n",
    "    ended_at datetime,\n",
    "    ride_length time,\n",
    "    day_of_week int,\n",
    "    start_station_name varchar(255),\n",
    "    start_station_id double,\n",
    "    end_station_name varchar(255),\n",
    "    end_station_id double,\n",
    "    start_lat float,\n",
    "    start_lng float,\n",
    "    end_lat float,\n",
    "    end_lng float,\n",
    "    member_casual varchar(255));\n",
    "\"\"\"\n",
    "\n",
    "create_february2021_table = \"\"\"\n",
    "CREATE TABLE february_2021 (\n",
    "    ride_id varchar(255),\n",
    "    rideable_type varchar(255),\n",
    "    started_at datetime,\n",
    "    ended_at datetime,\n",
    "    ride_length time,\n",
    "    day_of_week int,\n",
    "    start_station_name varchar(255),\n",
    "    start_station_id double,\n",
    "    end_station_name varchar(255),\n",
    "    end_station_id double,\n",
    "    start_lat float,\n",
    "    start_lng float,\n",
    "    end_lat float,\n",
    "    end_lng float,\n",
    "    member_casual varchar(255));\n",
    "\"\"\"\n",
    "\n",
    "create_march2021_table = \"\"\"\n",
    "CREATE TABLE march_2021 (\n",
    "    ride_id varchar(255),\n",
    "    rideable_type varchar(255),\n",
    "    started_at datetime,\n",
    "    ended_at datetime,\n",
    "    ride_length time,\n",
    "    day_of_week int,\n",
    "    start_station_name varchar(255),\n",
    "    start_station_id double,\n",
    "    end_station_name varchar(255),\n",
    "    end_station_id double,\n",
    "    start_lat float,\n",
    "    start_lng float,\n",
    "    end_lat float,\n",
    "    end_lng float,\n",
    "    member_casual varchar(255));\n",
    "\"\"\"\n",
    "\n",
    "connection = create_db_connection(\"localhost\", \"root\", \"M2y7_0695\", \"bike\")\n",
    "execute_query(connection, create_may2020_table)\n",
    "execute_query(connection, create_june2020_table)\n",
    "execute_query(connection, create_july2020_table)\n",
    "execute_query(connection, create_august2020_table)\n",
    "execute_query(connection, create_september2020_table)\n",
    "execute_query(connection, create_october2020_table)\n",
    "execute_query(connection, create_november2020_table)\n",
    "execute_query(connection, create_december2020_table)\n",
    "execute_query(connection, create_january2021_table)\n",
    "execute_query(connection, create_february2021_table)\n",
    "execute_query(connection, create_march2021_table)"
   ]
  },
  {
   "cell_type": "code",
   "execution_count": 19,
   "id": "01eda436",
   "metadata": {},
   "outputs": [
    {
     "name": "stdout",
     "output_type": "stream",
     "text": [
      "MySQL Database connection successful\n",
      "Error: '1050 (42S01): Table 'trip_data' already exists'\n"
     ]
    }
   ],
   "source": [
    "##create trip data table to merge all months table\n",
    "\n",
    "create_trip_data_table = \"\"\"\n",
    "CREATE TABLE trip_data (\n",
    "    ride_id varchar(255),\n",
    "    rideable_type varchar(255),\n",
    "    started_at datetime,\n",
    "    ended_at datetime,\n",
    "    ride_length time,\n",
    "    day_of_week int,\n",
    "    start_station_name varchar(255),\n",
    "    start_station_id double,\n",
    "    end_station_name varchar(255),\n",
    "    end_station_id double,\n",
    "    start_lat float,\n",
    "    start_lng float,\n",
    "    end_lat float,\n",
    "    end_lng float,\n",
    "    member_casual varchar(255));\n",
    "\"\"\"\n",
    "\n",
    "connection = create_db_connection(\"localhost\", \"root\", \"M2y7_0695\", \"bike\")\n",
    "execute_query(connection, create_trip_data_table)"
   ]
  },
  {
   "cell_type": "code",
   "execution_count": 20,
   "id": "513569d0",
   "metadata": {},
   "outputs": [
    {
     "name": "stdout",
     "output_type": "stream",
     "text": [
      "MySQL Database connection successful\n",
      "Query successful\n"
     ]
    }
   ],
   "source": [
    "#merge all months table into trip data table    \n",
    "\n",
    "\n",
    "merge = \"\"\"\n",
    "INSERT INTO trip_data\n",
    "SELECT\n",
    "    ride_id, rideable_type, started_at, ended_at, ride_length, day_of_week, start_station_name,\n",
    "    start_station_id, end_station_name, end_station_id, start_lat, start_lng, end_lat, end_lng,\n",
    "    member_casual\n",
    "FROM april_2020\n",
    "UNION\n",
    "SELECT\n",
    "    ride_id, rideable_type, started_at, ended_at, ride_length, day_of_week, start_station_name,\n",
    "    start_station_id, end_station_name, end_station_id, start_lat, start_lng, end_lat, end_lng,\n",
    "    member_casual\n",
    "FROM may_2020\n",
    "UNION\n",
    "SELECT\n",
    "    ride_id, rideable_type, started_at, ended_at, ride_length, day_of_week, start_station_name,\n",
    "    start_station_id, end_station_name, end_station_id, start_lat, start_lng, end_lat, end_lng,\n",
    "    member_casual\n",
    "FROM june_2020\n",
    "UNION\n",
    "SELECT\n",
    "    ride_id, rideable_type, started_at, ended_at, ride_length, day_of_week, start_station_name,\n",
    "    start_station_id, end_station_name, end_station_id, start_lat, start_lng, end_lat, end_lng,\n",
    "    member_casual\n",
    "FROM july_2020\n",
    "UNION\n",
    "SELECT\n",
    "    ride_id, rideable_type, started_at, ended_at, ride_length, day_of_week, start_station_name,\n",
    "    start_station_id, end_station_name, end_station_id, start_lat, start_lng, end_lat, end_lng,\n",
    "    member_casual\n",
    "FROM august_2020\n",
    "UNION\n",
    "SELECT\n",
    "    ride_id, rideable_type, started_at, ended_at, ride_length, day_of_week, start_station_name,\n",
    "    start_station_id, end_station_name, end_station_id, start_lat, start_lng, end_lat, end_lng,\n",
    "    member_casual\n",
    "FROM september_2020\n",
    "UNION\n",
    "SELECT\n",
    "    ride_id, rideable_type, started_at, ended_at, ride_length, day_of_week, start_station_name,\n",
    "    start_station_id, end_station_name, end_station_id, start_lat, start_lng, end_lat, end_lng,\n",
    "    member_casual\n",
    "FROM october_2020\n",
    "UNION\n",
    "SELECT\n",
    "    ride_id, rideable_type, started_at, ended_at, ride_length, day_of_week, start_station_name,\n",
    "    start_station_id, end_station_name, end_station_id, start_lat, start_lng, end_lat, end_lng,\n",
    "    member_casual\n",
    "FROM november_2020\n",
    "UNION\n",
    "SELECT\n",
    "    ride_id, rideable_type, started_at, ended_at, ride_length, day_of_week, start_station_name,\n",
    "    start_station_id, end_station_name, end_station_id, start_lat, start_lng, end_lat, end_lng,\n",
    "    member_casual\n",
    "FROM december_2020\n",
    "UNION\n",
    "SELECT\n",
    "    ride_id, rideable_type, started_at, ended_at, ride_length, day_of_week, start_station_name,\n",
    "    start_station_id, end_station_name, end_station_id, start_lat, start_lng, end_lat, end_lng,\n",
    "    member_casual\n",
    "FROM january_2021\n",
    "UNION\n",
    "SELECT\n",
    "    ride_id, rideable_type, started_at, ended_at, ride_length, day_of_week, start_station_name,\n",
    "    start_station_id, end_station_name, end_station_id, start_lat, start_lng, end_lat, end_lng,\n",
    "    member_casual\n",
    "FROM february_2021\n",
    "UNION\n",
    "SELECT\n",
    "    ride_id, rideable_type, started_at, ended_at, ride_length, day_of_week, start_station_name,\n",
    "    start_station_id, end_station_name, end_station_id, start_lat, start_lng, end_lat, end_lng,\n",
    "    member_casual\n",
    "FROM march_2021;\n",
    "\"\"\"\n",
    "\n",
    "connection = create_db_connection(\"localhost\", \"root\", \"M2y7_0695\", \"bike\")\n",
    "execute_query(connection, merge)"
   ]
  },
  {
   "cell_type": "markdown",
   "id": "8c14aced",
   "metadata": {},
   "source": [
    "It will be very useful to know how to pull data out of those databases so it can then be fed into your python data pipeline. This is what we are going to work on next.\n",
    "\n",
    "For this, we will need one more function, this time using cursor.fetchall() instead of cursor.commit(). With this function, we are reading data from the database and will not be making any changes."
   ]
  },
  {
   "cell_type": "code",
   "execution_count": 21,
   "id": "5fecbba6",
   "metadata": {},
   "outputs": [],
   "source": [
    "def read_query(connection, query):\n",
    "    cursor = connection.cursor()\n",
    "    result = None\n",
    "    try:\n",
    "        cursor.execute(query)\n",
    "        result = cursor.fetchall()\n",
    "        return result\n",
    "    except Error as err:\n",
    "        print(f\"Error: '{err}'\")"
   ]
  },
  {
   "cell_type": "code",
   "execution_count": 22,
   "id": "a76c9f71",
   "metadata": {},
   "outputs": [
    {
     "name": "stdout",
     "output_type": "stream",
     "text": [
      "MySQL Database connection successful\n",
      "(None,)\n"
     ]
    }
   ],
   "source": [
    "# calculate average of ride_length\n",
    "\n",
    "average_ride_length = \"\"\"\n",
    "SELECT \n",
    "    SEC_TO_TIME(AVG(TIME_TO_SEC (ride_length))) AS avg_rides\n",
    "FROM trip_data;\n",
    "\"\"\"\n",
    "connection = create_db_connection(\"localhost\", \"root\", \"M2y7_0695\", \"bike\")\n",
    "#execute_query(connection, average_ride_length)\n",
    "\n",
    "results = read_query(connection, average_ride_length)\n",
    "\n",
    "for result in results:\n",
    "  print(result)"
   ]
  },
  {
   "cell_type": "code",
   "execution_count": 23,
   "id": "04d60e72",
   "metadata": {},
   "outputs": [
    {
     "name": "stdout",
     "output_type": "stream",
     "text": [
      "MySQL Database connection successful\n"
     ]
    }
   ],
   "source": [
    "# calculate average ride_length by member_casual\n",
    "\n",
    "average_ride_length_casual = \"\"\"\n",
    "SELECT\n",
    "    member_casual, SEC_TO_TIME(AVG(TIME_TO_SEC(ride_length))) AS avg_member\n",
    "FROM trip_data\n",
    "GROUP BY member_casual;\n",
    "\"\"\"\n",
    "connection = create_db_connection(\"localhost\", \"root\", \"M2y7_0695\", \"bike\")\n",
    "\n",
    "results = read_query(connection, average_ride_length_casual)\n",
    "\n",
    "for result in results:\n",
    "  print(result)\n"
   ]
  },
  {
   "cell_type": "code",
   "execution_count": 24,
   "id": "c07eb791",
   "metadata": {},
   "outputs": [
    {
     "name": "stdout",
     "output_type": "stream",
     "text": [
      "MySQL Database connection successful\n"
     ]
    }
   ],
   "source": [
    "# calculate average ride_length by day_of_week by member_casual\n",
    "\n",
    "average_ride_length_by_day_of_week_casual = \"\"\"\n",
    "SELECT \n",
    "    SEC_TO_TIME(AVG(TIME_TO_SEC(ride_length))) AS avg_time, day_of_week\n",
    "FROM trip_data\n",
    "GROUP BY day_of_week\n",
    "HAVING day_of_week > 0;\n",
    "\"\"\"\n",
    "connection = create_db_connection(\"localhost\", \"root\", \"M2y7_0695\", \"bike\")\n",
    "\n",
    "results = read_query(connection, average_ride_length_by_day_of_week_casual )\n",
    "\n",
    "for result in results:\n",
    "  print(result)\n"
   ]
  },
  {
   "cell_type": "code",
   "execution_count": 25,
   "id": "e2bd8ffc",
   "metadata": {
    "scrolled": true
   },
   "outputs": [
    {
     "name": "stdout",
     "output_type": "stream",
     "text": [
      "MySQL Database connection successful\n"
     ]
    }
   ],
   "source": [
    "# calculate number of rides by day_of_week\n",
    "\n",
    "no_rides_by_day_of_week = \"\"\"\n",
    "SELECT \n",
    "    COUNT(DISTINCT ride_id) AS num_of_rides, day_of_week\n",
    "FROM trip_data\n",
    "GROUP BY day_of_week\n",
    "HAVING day_of_week > 0;\n",
    "\"\"\"\n",
    "connection = create_db_connection(\"localhost\", \"root\", \"M2y7_0695\", \"bike\")\n",
    "\n",
    "results = read_query(connection, no_rides_by_day_of_week )\n",
    "\n",
    "for result in results:\n",
    "  print(result)"
   ]
  },
  {
   "cell_type": "code",
   "execution_count": 26,
   "id": "91d305b8",
   "metadata": {},
   "outputs": [
    {
     "name": "stdout",
     "output_type": "stream",
     "text": [
      "MySQL Database connection successful\n"
     ]
    }
   ],
   "source": [
    "#calculate the number of rides by rideable_type\n",
    "\n",
    "no_rides_rideable_type = \"\"\"\n",
    "SELECT\n",
    "    COUNT(DISTINCT ride_id), rideable_type\n",
    "FROM trip_data\n",
    "GROUP BY rideable_type;\n",
    "\"\"\"\n",
    "connection = create_db_connection(\"localhost\", \"root\", \"M2y7_0695\", \"bike\")\n",
    "\n",
    "results = read_query(connection, no_rides_rideable_type )\n",
    "\n",
    "for result in results:\n",
    "  print(result)"
   ]
  },
  {
   "cell_type": "code",
   "execution_count": 27,
   "id": "ad0a5d89",
   "metadata": {},
   "outputs": [
    {
     "name": "stdout",
     "output_type": "stream",
     "text": [
      "MySQL Database connection successful\n"
     ]
    }
   ],
   "source": [
    "# number of rides of members by month\n",
    "\n",
    "no_rides_members_by_month = \"\"\"\n",
    "SELECT\n",
    "    COUNT(DISTINCT ride_id), member_casual, MONTH(started_at) AS ride_month\n",
    "FROM trip_data\n",
    "WHERE member_casual LIKE 'member%'\n",
    "GROUP BY ride_month;\n",
    "\"\"\"\n",
    "connection = create_db_connection(\"localhost\", \"root\", \"M2y7_0695\", \"bike\")\n",
    "\n",
    "results = read_query(connection, no_rides_members_by_month )\n",
    "\n",
    "for result in results:\n",
    "  print(result)"
   ]
  },
  {
   "cell_type": "code",
   "execution_count": 28,
   "id": "f53d38d9",
   "metadata": {},
   "outputs": [
    {
     "name": "stdout",
     "output_type": "stream",
     "text": [
      "MySQL Database connection successful\n"
     ]
    }
   ],
   "source": [
    "# number of rides of casual members by month\n",
    "\n",
    "no_rides_casual_by_month = \"\"\"\n",
    "SELECT\n",
    "    COUNT(DISTINCT ride_id), member_casual, MONTH(started_at) AS ride_month\n",
    "FROM trip_data\n",
    "WHERE member_casual LIKE 'casual%'\n",
    "GROUP BY ride_month;\n",
    "\"\"\"\n",
    "connection = create_db_connection(\"localhost\", \"root\", \"M2y7_0695\", \"bike\")\n",
    "\n",
    "results = read_query(connection, no_rides_casual_by_month )\n",
    "\n",
    "for result in results:\n",
    "  print(result)"
   ]
  },
  {
   "cell_type": "code",
   "execution_count": 29,
   "id": "387f3c4a",
   "metadata": {},
   "outputs": [
    {
     "name": "stdout",
     "output_type": "stream",
     "text": [
      "MySQL Database connection successful\n"
     ]
    }
   ],
   "source": [
    "# calculate total number of rides by months\n",
    "\n",
    "total_no_rides_by_months = \"\"\"\n",
    "SELECT\n",
    "    COUNT(DISTINCT ride_id), MONTH(started_at) AS ride_month\n",
    "FROM trip_data\n",
    "GROUP BY ride_month\n",
    "HAVING ride_month > 0 ;\n",
    "\"\"\"\n",
    "connection = create_db_connection(\"localhost\", \"root\", \"M2y7_0695\", \"bike\")\n",
    "\n",
    "results = read_query(connection, total_no_rides_by_months )\n",
    "\n",
    "for result in results:\n",
    "  print(result)"
   ]
  },
  {
   "cell_type": "code",
   "execution_count": 30,
   "id": "30375baa",
   "metadata": {},
   "outputs": [
    {
     "name": "stdout",
     "output_type": "stream",
     "text": [
      "MySQL Database connection successful\n"
     ]
    }
   ],
   "source": [
    "# ride length according to part of the day\n",
    "\n",
    "ride_length_part_of_day = \"\"\"\n",
    "SELECT \n",
    "    SEC_TO_TIME(AVG(TIME_TO_SEC(ride_length))) as avg_rides, \n",
    "    (CASE \n",
    "    WHEN TIME(started_at) >= '05:00:00' and TIME(started_at) < '12:00:00' THEN 'Morning'\n",
    "    WHEN TIME(started_at) >= '12:00:00' and TIME(started_at) < '17:00:00' THEN 'Afternoon'\n",
    "    WHEN TIME(started_at) >= '17:00:00' and TIME(started_at) < '20:00:00' THEN 'Evening'\n",
    "    ELSE 'Night'\n",
    "    END) AS part_of_day\n",
    "FROM trip_data\n",
    "GROUP BY part_of_day;\n",
    "\"\"\"\n",
    "connection = create_db_connection(\"localhost\", \"root\", \"M2y7_0695\", \"bike\")\n",
    "\n",
    "results = read_query(connection, ride_length_part_of_day )\n",
    "\n",
    "for result in results:\n",
    "  print(result)"
   ]
  },
  {
   "cell_type": "code",
   "execution_count": 31,
   "id": "a45dfa5c",
   "metadata": {},
   "outputs": [
    {
     "name": "stdout",
     "output_type": "stream",
     "text": [
      "MySQL Database connection successful\n"
     ]
    }
   ],
   "source": [
    "# day_of_week by part of day\n",
    "\n",
    "day_of_week_by_part_of_day = \"\"\"\n",
    "SELECT\n",
    "    COUNT(day_of_week) AS num_of_rides,\n",
    "    (CASE \n",
    "    WHEN TIME(started_at) >= '05:00:00' and TIME(started_at) < '12:00:00' THEN 'Morning'\n",
    "    WHEN TIME(started_at) >= '12:00:00' and TIME(started_at) < '17:00:00' THEN 'Afternoon'\n",
    "    WHEN TIME(started_at) >= '17:00:00' and TIME(started_at) < '20:00:00' THEN 'Evening'\n",
    "    ELSE 'Night'\n",
    "    END) AS part_of_day\n",
    "FROM trip_data\n",
    "GROUP BY part_of_day;\n",
    "\"\"\"\n",
    "connection = create_db_connection(\"localhost\", \"root\", \"M2y7_0695\", \"bike\")\n",
    "\n",
    "results = read_query(connection, day_of_week_by_part_of_day )\n",
    "\n",
    "for result in results:\n",
    "  print(result)"
   ]
  },
  {
   "cell_type": "code",
   "execution_count": 32,
   "id": "f0c5b45f",
   "metadata": {},
   "outputs": [
    {
     "name": "stdout",
     "output_type": "stream",
     "text": [
      "MySQL Database connection successful\n"
     ]
    }
   ],
   "source": [
    "# casual riders by station name\n",
    "\n",
    "casual_riders_by_station = \"\"\"\n",
    "SELECT\n",
    "    COUNT(start_station_name) AS num_start_station,\n",
    "    COUNT(end_station_name) AS num_end_station,\n",
    "    member_casual, start_station_name\n",
    "FROM trip_data\n",
    "WHERE member_casual LIKE 'casual%' and start_station_name IS NOT NULL\n",
    "GROUP BY start_station_name\n",
    "ORDER BY num_start_station DESC, num_end_station DESC\n",
    "LIMIT 10;\n",
    "\"\"\"\n",
    "connection = create_db_connection(\"localhost\", \"root\", \"M2y7_0695\", \"bike\")\n",
    "\n",
    "results = read_query(connection, casual_riders_by_station )\n",
    "\n",
    "for result in results:\n",
    "  print(result)"
   ]
  },
  {
   "cell_type": "code",
   "execution_count": 33,
   "id": "dd8bd986",
   "metadata": {},
   "outputs": [
    {
     "name": "stdout",
     "output_type": "stream",
     "text": [
      "MySQL Database connection successful\n"
     ]
    }
   ],
   "source": [
    "# member riders by station name\n",
    "\n",
    "member_riders_by_station = \"\"\"\n",
    "SELECT\n",
    "    COUNT(start_station_name) AS num_start_station,\n",
    "    COUNT(end_station_name) AS num_end_station,\n",
    "    member_casual, start_station_name\n",
    "FROM trip_data\n",
    "WHERE member_casual LIKE 'member%' and start_station_name IS NOT NULL\n",
    "GROUP BY start_station_name\n",
    "ORDER BY num_start_station DESC, num_end_station DESC\n",
    "LIMIT 10;\n",
    "\"\"\"\n",
    "connection = create_db_connection(\"localhost\", \"root\", \"M2y7_0695\", \"bike\")\n",
    "\n",
    "results = read_query(connection, member_riders_by_station )\n",
    "\n",
    "for result in results:\n",
    "  print(result)"
   ]
  },
  {
   "cell_type": "code",
   "execution_count": 34,
   "id": "43b993bc",
   "metadata": {},
   "outputs": [
    {
     "name": "stdout",
     "output_type": "stream",
     "text": [
      "MySQL Database connection successful\n"
     ]
    }
   ],
   "source": [
    "update = \"\"\"\n",
    "SET SQL_SAFE_UPDATES = 0;\n",
    "\"\"\"\n",
    "connection = create_db_connection(\"localhost\", \"root\", \"M2y7_0695\", \"bike\")\n",
    "\n",
    "results = read_query(connection, member_riders_by_station )\n",
    "\n",
    "for result in results:\n",
    "  print(result)\n",
    "\n"
   ]
  },
  {
   "cell_type": "code",
   "execution_count": 35,
   "id": "797923fc",
   "metadata": {},
   "outputs": [
    {
     "name": "stdout",
     "output_type": "stream",
     "text": [
      "MySQL Database connection successful\n",
      "Error: '1290 (HY000): The MySQL server is running with the --secure-file-priv option so it cannot execute this statement'\n"
     ]
    }
   ],
   "source": [
    "# saving to csv format\n",
    "\n",
    "save_to_csv = \"\"\"\n",
    "SELECT 'ride_id', 'rideable_type', 'started_at', 'ended_at', 'ride_length', 'day_of_week',\n",
    "'start_station_name', 'start_station_id', 'end_station_name', 'end_station_id', 'start_lat', \n",
    "'start_lng', 'end_lat', 'end_lng', 'member_casual'\n",
    "UNION ALL\n",
    "SELECT ride_id, rideable_type, started_at, ended_at, ride_length, day_of_week,\n",
    "start_station_name, start_station_id, end_station_name, end_station_id, start_lat, start_lng,\n",
    "end_lat, end_lng, member_casual\n",
    "    FROM trip_data\n",
    "    INTO OUTFILE 'C:/Users/Agnes Chintia Dewi/Downloads/cyclist/zip/trip_data.csv'\n",
    "    FIELDS TERMINATED BY ';'\n",
    "    ENCLOSED BY '\"'\n",
    "    LINES TERMINATED BY '\\n';\n",
    "\"\"\"\n",
    "connection = create_db_connection(\"localhost\", \"root\", \"M2y7_0695\", \"bike\")\n",
    "\n",
    "results = read_query(connection, save_to_csv )"
   ]
  },
  {
   "cell_type": "code",
   "execution_count": null,
   "id": "3657fc95",
   "metadata": {},
   "outputs": [],
   "source": []
  }
 ],
 "metadata": {
  "kernelspec": {
   "display_name": "Python 3 (ipykernel)",
   "language": "python",
   "name": "python3"
  },
  "language_info": {
   "codemirror_mode": {
    "name": "ipython",
    "version": 3
   },
   "file_extension": ".py",
   "mimetype": "text/x-python",
   "name": "python",
   "nbconvert_exporter": "python",
   "pygments_lexer": "ipython3",
   "version": "3.9.7"
  }
 },
 "nbformat": 4,
 "nbformat_minor": 5
}
